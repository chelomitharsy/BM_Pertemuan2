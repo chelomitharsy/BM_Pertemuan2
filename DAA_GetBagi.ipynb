{
 "cells": [
  {
   "cell_type": "code",
   "execution_count": 4,
   "id": "eca5519f-58e2-4403-80e3-44759374eaf1",
   "metadata": {},
   "outputs": [],
   "source": [
    "def getBagi(myList):\n",
    "    bagi = myList[0]\n",
    "    for item in myList:\n",
    "        bagi /= item\n",
    "    return bagi"
   ]
  },
  {
   "cell_type": "code",
   "execution_count": 2,
   "id": "1316fc18-6b06-4fb4-956c-291cd3fa7446",
   "metadata": {},
   "outputs": [
    {
     "data": {
      "text/plain": [
       "0.125"
      ]
     },
     "execution_count": 2,
     "metadata": {},
     "output_type": "execute_result"
    }
   ],
   "source": [
    "getBagi([4,2])"
   ]
  },
  {
   "cell_type": "code",
   "execution_count": null,
   "id": "f5c2af1f-4140-4f49-816f-d8f7d98df587",
   "metadata": {},
   "outputs": [],
   "source": []
  }
 ],
 "metadata": {
  "kernelspec": {
   "display_name": "Python 3 (ipykernel)",
   "language": "python",
   "name": "python3"
  },
  "language_info": {
   "codemirror_mode": {
    "name": "ipython",
    "version": 3
   },
   "file_extension": ".py",
   "mimetype": "text/x-python",
   "name": "python",
   "nbconvert_exporter": "python",
   "pygments_lexer": "ipython3",
   "version": "3.9.12"
  }
 },
 "nbformat": 4,
 "nbformat_minor": 5
}
