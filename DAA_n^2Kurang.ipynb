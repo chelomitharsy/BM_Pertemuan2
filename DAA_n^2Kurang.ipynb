{
 "cells": [
  {
   "cell_type": "code",
   "execution_count": 59,
   "id": "525d6029-0ab3-409e-9708-9923b4ced3be",
   "metadata": {},
   "outputs": [],
   "source": [
    "def getKurang(myList):\n",
    "    kurang = 0\n",
    "    for x in myList:\n",
    "        for y in x:\n",
    "            kurang -= y\n",
    "    return kurang"
   ]
  },
  {
   "cell_type": "code",
   "execution_count": 61,
   "id": "03308e35-0a9f-4d29-ab14-f8172118d8ad",
   "metadata": {},
   "outputs": [
    {
     "data": {
      "text/plain": [
       "-14"
      ]
     },
     "execution_count": 61,
     "metadata": {},
     "output_type": "execute_result"
    }
   ],
   "source": [
    "getKurang([[5,5],[2,2]])"
   ]
  },
  {
   "cell_type": "code",
   "execution_count": 62,
   "id": "786d3ace-3f76-4c82-aca5-20dd22b5148c",
   "metadata": {},
   "outputs": [
    {
     "data": {
      "text/plain": [
       "-8"
      ]
     },
     "execution_count": 62,
     "metadata": {},
     "output_type": "execute_result"
    }
   ],
   "source": [
    "getKurang([[2,2],[2,2]])"
   ]
  },
  {
   "cell_type": "code",
   "execution_count": null,
   "id": "71f4fe6e-20a0-489b-af97-aeb30518c252",
   "metadata": {},
   "outputs": [],
   "source": []
  }
 ],
 "metadata": {
  "kernelspec": {
   "display_name": "Python 3 (ipykernel)",
   "language": "python",
   "name": "python3"
  },
  "language_info": {
   "codemirror_mode": {
    "name": "ipython",
    "version": 3
   },
   "file_extension": ".py",
   "mimetype": "text/x-python",
   "name": "python",
   "nbconvert_exporter": "python",
   "pygments_lexer": "ipython3",
   "version": "3.9.12"
  }
 },
 "nbformat": 4,
 "nbformat_minor": 5
}
