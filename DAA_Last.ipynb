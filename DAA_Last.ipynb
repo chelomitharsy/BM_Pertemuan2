{
 "cells": [
  {
   "cell_type": "code",
   "execution_count": 1,
   "id": "04a07a98-cc0b-4085-b864-03bfc7fd80cc",
   "metadata": {},
   "outputs": [],
   "source": [
    "def getLast(myList):\n",
    "    return myList[-1]"
   ]
  },
  {
   "cell_type": "code",
   "execution_count": 2,
   "id": "71196f02-74d3-4cb9-bb7a-2214353dd59c",
   "metadata": {},
   "outputs": [
    {
     "data": {
      "text/plain": [
       "5"
      ]
     },
     "execution_count": 2,
     "metadata": {},
     "output_type": "execute_result"
    }
   ],
   "source": [
    "getLast([1,2,3,4,5])"
   ]
  },
  {
   "cell_type": "code",
   "execution_count": 3,
   "id": "47c80347-f722-4d68-9aa1-724d3c1afcd5",
   "metadata": {},
   "outputs": [
    {
     "data": {
      "text/plain": [
       "5"
      ]
     },
     "execution_count": 3,
     "metadata": {},
     "output_type": "execute_result"
    }
   ],
   "source": [
    "getLast([2,6,3,9,10,7,8,5])"
   ]
  },
  {
   "cell_type": "code",
   "execution_count": null,
   "id": "f72c91a2-acba-47d4-91bf-f189307599ce",
   "metadata": {},
   "outputs": [],
   "source": []
  }
 ],
 "metadata": {
  "kernelspec": {
   "display_name": "Python 3 (ipykernel)",
   "language": "python",
   "name": "python3"
  },
  "language_info": {
   "codemirror_mode": {
    "name": "ipython",
    "version": 3
   },
   "file_extension": ".py",
   "mimetype": "text/x-python",
   "name": "python",
   "nbconvert_exporter": "python",
   "pygments_lexer": "ipython3",
   "version": "3.9.12"
  }
 },
 "nbformat": 4,
 "nbformat_minor": 5
}
