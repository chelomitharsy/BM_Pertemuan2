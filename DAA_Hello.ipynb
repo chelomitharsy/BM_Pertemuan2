{
 "cells": [
  {
   "cell_type": "code",
   "execution_count": 5,
   "id": "d9e2dca7-38d4-4dd3-b76b-22c472a4be58",
   "metadata": {},
   "outputs": [
    {
     "name": "stdout",
     "output_type": "stream",
     "text": [
      "Hello, World!\n"
     ]
    }
   ],
   "source": [
    "print(\"Hello, World!\")"
   ]
  },
  {
   "cell_type": "code",
   "execution_count": 4,
   "id": "4c7521c0-f563-4651-9abd-d33475886bfc",
   "metadata": {},
   "outputs": [
    {
     "name": "stdout",
     "output_type": "stream",
     "text": [
      "Nama saya Chelomitha Arsy P\n"
     ]
    }
   ],
   "source": [
    "print(\"Nama saya Chelomitha Arsy P\")"
   ]
  },
  {
   "cell_type": "code",
   "execution_count": 3,
   "id": "d92e1f47-949f-4c8b-be2f-47cebb54dcec",
   "metadata": {},
   "outputs": [
    {
     "name": "stdout",
     "output_type": "stream",
     "text": [
      "NIM saya 2021071042\n"
     ]
    }
   ],
   "source": [
    "print(\"NIM saya 2021071042\")"
   ]
  },
  {
   "cell_type": "code",
   "execution_count": null,
   "id": "8ce163f5-bc15-4151-a62d-6ac008035699",
   "metadata": {},
   "outputs": [],
   "source": []
  }
 ],
 "metadata": {
  "kernelspec": {
   "display_name": "Python 3 (ipykernel)",
   "language": "python",
   "name": "python3"
  },
  "language_info": {
   "codemirror_mode": {
    "name": "ipython",
    "version": 3
   },
   "file_extension": ".py",
   "mimetype": "text/x-python",
   "name": "python",
   "nbconvert_exporter": "python",
   "pygments_lexer": "ipython3",
   "version": "3.9.12"
  }
 },
 "nbformat": 4,
 "nbformat_minor": 5
}
