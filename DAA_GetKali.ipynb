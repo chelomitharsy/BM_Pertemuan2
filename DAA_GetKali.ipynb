{
 "cells": [
  {
   "cell_type": "code",
   "execution_count": 7,
   "id": "5db53640-8fda-4c38-93d9-e32a7218e5f2",
   "metadata": {},
   "outputs": [],
   "source": [
    "def getKali(myList):\n",
    "    kali = 1\n",
    "    for item in myList:\n",
    "        kali = kali*item\n",
    "    return kali"
   ]
  },
  {
   "cell_type": "code",
   "execution_count": 8,
   "id": "80d1a399-fc73-49f0-ac96-0e2bcaf1a4a3",
   "metadata": {},
   "outputs": [
    {
     "data": {
      "text/plain": [
       "4"
      ]
     },
     "execution_count": 8,
     "metadata": {},
     "output_type": "execute_result"
    }
   ],
   "source": [
    "getKali([2,2])"
   ]
  },
  {
   "cell_type": "code",
   "execution_count": 9,
   "id": "04da7485-3749-45ac-bb04-69414ef8cde6",
   "metadata": {},
   "outputs": [
    {
     "data": {
      "text/plain": [
       "6"
      ]
     },
     "execution_count": 9,
     "metadata": {},
     "output_type": "execute_result"
    }
   ],
   "source": [
    "getKali([1,2,3])"
   ]
  },
  {
   "cell_type": "code",
   "execution_count": 10,
   "id": "17864ea9-8e9c-49e5-861e-1d8a71597a5b",
   "metadata": {},
   "outputs": [
    {
     "data": {
      "text/plain": [
       "350"
      ]
     },
     "execution_count": 10,
     "metadata": {},
     "output_type": "execute_result"
    }
   ],
   "source": [
    "getKali([7,5,10])"
   ]
  },
  {
   "cell_type": "code",
   "execution_count": null,
   "id": "88e32f28-ba24-4dc3-941b-76ce9e7b9a03",
   "metadata": {},
   "outputs": [],
   "source": []
  }
 ],
 "metadata": {
  "kernelspec": {
   "display_name": "Python 3 (ipykernel)",
   "language": "python",
   "name": "python3"
  },
  "language_info": {
   "codemirror_mode": {
    "name": "ipython",
    "version": 3
   },
   "file_extension": ".py",
   "mimetype": "text/x-python",
   "name": "python",
   "nbconvert_exporter": "python",
   "pygments_lexer": "ipython3",
   "version": "3.9.12"
  }
 },
 "nbformat": 4,
 "nbformat_minor": 5
}
