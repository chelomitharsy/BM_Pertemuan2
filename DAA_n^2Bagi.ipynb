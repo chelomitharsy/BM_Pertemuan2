{
 "cells": [
  {
   "cell_type": "code",
   "execution_count": 4,
   "id": "9e9b8e56-f6d7-4977-82fe-49fd6f1d2924",
   "metadata": {},
   "outputs": [],
   "source": [
    "def getBagi(myList):\n",
    "    bagi = 100\n",
    "    for x in myList:\n",
    "        for y in x:\n",
    "            bagi /= y\n",
    "    return bagi"
   ]
  },
  {
   "cell_type": "code",
   "execution_count": 5,
   "id": "27029661-917f-4eca-b3ff-ffc295e0303c",
   "metadata": {},
   "outputs": [
    {
     "data": {
      "text/plain": [
       "2.0"
      ]
     },
     "execution_count": 5,
     "metadata": {},
     "output_type": "execute_result"
    }
   ],
   "source": [
    "getBagi([[10],[5]])"
   ]
  },
  {
   "cell_type": "code",
   "execution_count": 6,
   "id": "50c7eacd-914f-4d3f-9fe9-f71cfdbacdaa",
   "metadata": {},
   "outputs": [
    {
     "data": {
      "text/plain": [
       "5.0"
      ]
     },
     "execution_count": 6,
     "metadata": {},
     "output_type": "execute_result"
    }
   ],
   "source": [
    "getBagi([[5],[4]])"
   ]
  },
  {
   "cell_type": "code",
   "execution_count": null,
   "id": "bd193cb8-5221-4d0b-82dc-b472f16259b3",
   "metadata": {},
   "outputs": [],
   "source": []
  }
 ],
 "metadata": {
  "kernelspec": {
   "display_name": "Python 3 (ipykernel)",
   "language": "python",
   "name": "python3"
  },
  "language_info": {
   "codemirror_mode": {
    "name": "ipython",
    "version": 3
   },
   "file_extension": ".py",
   "mimetype": "text/x-python",
   "name": "python",
   "nbconvert_exporter": "python",
   "pygments_lexer": "ipython3",
   "version": "3.9.12"
  }
 },
 "nbformat": 4,
 "nbformat_minor": 5
}
